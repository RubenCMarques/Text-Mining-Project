{
 "cells": [
  {
   "cell_type": "markdown",
   "metadata": {},
   "source": [
    "## Improved MLP"
   ]
  },
  {
   "cell_type": "markdown",
   "metadata": {},
   "source": [
    "### Upsample Bearish and Bullish to match Neutral"
   ]
  },
  {
   "cell_type": "code",
   "execution_count": null,
   "metadata": {},
   "outputs": [],
   "source": [
    "# Convert embeddings to DataFrame for easier handling\n",
    "X_train_df = pd.DataFrame(train_embeddings.numpy())\n",
    "X_train_df['label'] = train_df['label'].values\n",
    "\n",
    "# Separate by class\n",
    "df_bearish = X_train_df[X_train_df['label'] == 0]\n",
    "df_bullish = X_train_df[X_train_df['label'] == 1]\n",
    "df_neutral = X_train_df[X_train_df['label'] == 2]\n",
    "\n",
    "# Upsample classes 0 and 1\n",
    "df_bearish_up = resample(df_bearish, replace=True, n_samples=len(df_neutral), random_state=42)\n",
    "df_bullish_up = resample(df_bullish, replace=True, n_samples=len(df_neutral), random_state=42)\n",
    "\n",
    "# Combine and shuffle\n",
    "df_upsampled = pd.concat([df_bearish_up, df_bullish_up, df_neutral])\n",
    "df_upsampled = df_upsampled.sample(frac=1, random_state=42).reset_index(drop=True)\n",
    "\n",
    "# Extract features and labels\n",
    "X_balanced = torch.tensor(df_upsampled.drop(columns='label').values, dtype=torch.float)\n",
    "y_balanced = torch.tensor(df_upsampled['label'].values, dtype=torch.long)"
   ]
  },
  {
   "cell_type": "markdown",
   "metadata": {},
   "source": [
    "### Define the PyTorch MLP with Dropout & Tuning and Prepare Data Loaders"
   ]
  },
  {
   "cell_type": "code",
   "execution_count": null,
   "metadata": {},
   "outputs": [],
   "source": [
    "import torch.nn as nn\n",
    "\n",
    "class TunedMLP(nn.Module):\n",
    "    def __init__(self, input_dim=768, hidden_dims=(512, 256), num_classes=3, dropout_rate=0.4):\n",
    "        super(TunedMLP, self).__init__()\n",
    "        self.model = nn.Sequential(\n",
    "            nn.Linear(input_dim, hidden_dims[0]),\n",
    "            nn.ReLU(),\n",
    "            nn.Dropout(dropout_rate),\n",
    "            nn.Linear(hidden_dims[0], hidden_dims[1]),\n",
    "            nn.ReLU(),\n",
    "            nn.Dropout(dropout_rate),\n",
    "            nn.Linear(hidden_dims[1], num_classes)\n",
    "        )\n",
    "\n",
    "    def forward(self, x):\n",
    "        return self.model(x)\n"
   ]
  },
  {
   "cell_type": "code",
   "execution_count": null,
   "metadata": {},
   "outputs": [],
   "source": [
    "from torch.utils.data import DataLoader, TensorDataset\n",
    "\n",
    "batch_size = 64\n",
    "\n",
    "train_loader = DataLoader(TensorDataset(X_balanced, y_balanced), batch_size=batch_size, shuffle=True)\n",
    "val_loader = DataLoader(TensorDataset(val_embeddings, torch.tensor(val_df['label'].values)), batch_size=batch_size)\n"
   ]
  },
  {
   "cell_type": "markdown",
   "metadata": {},
   "source": [
    "### Train the Model with Adam Optimizer"
   ]
  },
  {
   "cell_type": "code",
   "execution_count": null,
   "metadata": {},
   "outputs": [
    {
     "name": "stdout",
     "output_type": "stream",
     "text": [
      "Epoch 1/10, Loss: 221.3966\n",
      "Epoch 2/10, Loss: 191.7300\n",
      "Epoch 3/10, Loss: 179.9951\n",
      "Epoch 4/10, Loss: 170.8958\n",
      "Epoch 5/10, Loss: 164.7649\n",
      "Epoch 6/10, Loss: 155.9724\n",
      "Epoch 7/10, Loss: 147.0735\n",
      "Epoch 8/10, Loss: 140.2346\n",
      "Epoch 9/10, Loss: 131.9610\n",
      "Epoch 10/10, Loss: 124.2431\n"
     ]
    }
   ],
   "source": [
    "device = torch.device(\"cuda\" if torch.cuda.is_available() else \"cpu\")\n",
    "\n",
    "model = TunedMLP().to(device)\n",
    "criterion = nn.CrossEntropyLoss()\n",
    "optimizer = torch.optim.Adam(model.parameters(), lr=0.0005)\n",
    "\n",
    "epochs = 10\n",
    "for epoch in range(epochs):\n",
    "    model.train()\n",
    "    running_loss = 0.0\n",
    "    for xb, yb in train_loader:\n",
    "        xb, yb = xb.to(device), yb.to(device)\n",
    "        optimizer.zero_grad()\n",
    "        outputs = model(xb)\n",
    "        loss = criterion(outputs, yb)\n",
    "        loss.backward()\n",
    "        optimizer.step()\n",
    "        running_loss += loss.item()\n",
    "\n",
    "    print(f\"Epoch {epoch+1}/{epochs}, Loss: {running_loss:.4f}\")\n"
   ]
  },
  {
   "cell_type": "markdown",
   "metadata": {},
   "source": [
    "### Evaluate on Validation Set"
   ]
  },
  {
   "cell_type": "code",
   "execution_count": null,
   "metadata": {},
   "outputs": [
    {
     "name": "stdout",
     "output_type": "stream",
     "text": [
      "              precision    recall  f1-score   support\n",
      "\n",
      "     Bearish       0.47      0.59      0.52       288\n",
      "     Bullish       0.51      0.64      0.57       385\n",
      "     Neutral       0.85      0.74      0.79      1236\n",
      "\n",
      "    accuracy                           0.69      1909\n",
      "   macro avg       0.61      0.65      0.63      1909\n",
      "weighted avg       0.73      0.69      0.70      1909\n",
      "\n"
     ]
    }
   ],
   "source": [
    "model.eval()\n",
    "val_preds = []\n",
    "\n",
    "with torch.no_grad():\n",
    "    for xb, _ in val_loader:\n",
    "        xb = xb.to(device)\n",
    "        logits = model(xb)\n",
    "        preds = torch.argmax(logits, dim=1).cpu().numpy()\n",
    "        val_preds.extend(preds)\n",
    "\n",
    "from sklearn.metrics import classification_report\n",
    "print(classification_report(val_df['label'], val_preds, target_names=[\"Bearish\", \"Bullish\", \"Neutral\"]))\n"
   ]
  },
  {
   "cell_type": "code",
   "execution_count": null,
   "metadata": {},
   "outputs": [],
   "source": [
    "# !pip install transformers datasets\n",
    "# !pip install --upgrade transformers\n"
   ]
  },
  {
   "cell_type": "code",
   "execution_count": null,
   "metadata": {},
   "outputs": [
    {
     "data": {
      "application/vnd.jupyter.widget-view+json": {
       "model_id": "3b4d9a361faa466686a3c205ad19f1c4",
       "version_major": 2,
       "version_minor": 0
      },
      "text/plain": [
       "Casting the dataset:   0%|          | 0/7634 [00:00<?, ? examples/s]"
      ]
     },
     "metadata": {},
     "output_type": "display_data"
    },
    {
     "data": {
      "application/vnd.jupyter.widget-view+json": {
       "model_id": "226ebd1fb9904bb997da4ef0a87fd0fb",
       "version_major": 2,
       "version_minor": 0
      },
      "text/plain": [
       "Map:   0%|          | 0/6107 [00:00<?, ? examples/s]"
      ]
     },
     "metadata": {},
     "output_type": "display_data"
    },
    {
     "data": {
      "application/vnd.jupyter.widget-view+json": {
       "model_id": "ef7a4f52ac5544439d71863389005fc8",
       "version_major": 2,
       "version_minor": 0
      },
      "text/plain": [
       "Map:   0%|          | 0/1527 [00:00<?, ? examples/s]"
      ]
     },
     "metadata": {},
     "output_type": "display_data"
    }
   ],
   "source": [
    "# Use train_df only \n",
    "df_full = train_df.copy()\n",
    "df_full['text'] = df_full['text'].astype(str)\n",
    "\n",
    "# Define label names and cast to ClassLabel\n",
    "label_names = [\"Bearish\", \"Bullish\", \"Neutral\"]\n",
    "label_feature = ClassLabel(num_classes=3, names=label_names)\n",
    "\n",
    "# Build Hugging Face Dataset\n",
    "hf_dataset = Dataset.from_pandas(df_full[['text', 'label']])\n",
    "hf_dataset = hf_dataset.cast_column(\"label\", label_feature)\n",
    "\n",
    "# Tokenizer\n",
    "tokenizer = DistilBertTokenizerFast.from_pretrained('distilbert-base-uncased')\n",
    "\n",
    "# Tokenize function\n",
    "def tokenize(batch):\n",
    "    return tokenizer(batch['text'], padding='max_length', truncation=True, max_length=64)\n",
    "\n",
    "# Train-test split with stratification\n",
    "hf_dataset = hf_dataset.train_test_split(test_size=0.2, stratify_by_column='label')\n",
    "hf_dataset = hf_dataset.map(tokenize, batched=True)\n",
    "hf_dataset.set_format('torch', columns=['input_ids', 'attention_mask', 'label'])\n"
   ]
  },
  {
   "cell_type": "code",
   "execution_count": null,
   "metadata": {},
   "outputs": [],
   "source": []
  },
  {
   "cell_type": "code",
   "execution_count": null,
   "metadata": {},
   "outputs": [],
   "source": []
  },
  {
   "cell_type": "code",
   "execution_count": null,
   "metadata": {},
   "outputs": [],
   "source": []
  },
  {
   "cell_type": "code",
   "execution_count": null,
   "metadata": {},
   "outputs": [],
   "source": [
    "import torch\n",
    "import torch.nn as nn\n",
    "import torch.optim as optim\n",
    "from torch.utils.data import DataLoader, TensorDataset\n",
    "from sklearn.metrics import classification_report\n"
   ]
  },
  {
   "cell_type": "code",
   "execution_count": null,
   "metadata": {},
   "outputs": [],
   "source": [
    "# Define the model\n",
    "class MLPClassifier(nn.Module):\n",
    "    def __init__(self, input_dim=768, hidden_dims=(512, 256), dropout=0.4, num_classes=3):\n",
    "        super(MLPClassifier, self).__init__()\n",
    "        self.model = nn.Sequential(\n",
    "            nn.Linear(input_dim, hidden_dims[0]),\n",
    "            nn.ReLU(),\n",
    "            nn.Dropout(dropout),\n",
    "            nn.Linear(hidden_dims[0], hidden_dims[1]),\n",
    "            nn.ReLU(),\n",
    "            nn.Dropout(dropout),\n",
    "            nn.Linear(hidden_dims[1], num_classes)\n",
    "        )\n",
    "\n",
    "    def forward(self, x):\n",
    "        return self.model(x)\n"
   ]
  },
  {
   "cell_type": "code",
   "execution_count": null,
   "metadata": {},
   "outputs": [],
   "source": [
    "# Prepare data loaders\n",
    "batch_size = 64\n",
    "\n",
    "train_dataset = TensorDataset(train_embeddings, torch.tensor(train_df['label'].values))\n",
    "val_dataset = TensorDataset(val_embeddings, torch.tensor(val_df['label'].values))\n",
    "\n",
    "train_loader = DataLoader(train_dataset, batch_size=batch_size, shuffle=True)\n",
    "val_loader = DataLoader(val_dataset, batch_size=batch_size)\n"
   ]
  },
  {
   "cell_type": "code",
   "execution_count": null,
   "metadata": {},
   "outputs": [
    {
     "name": "stdout",
     "output_type": "stream",
     "text": [
      "Epoch 1/10 | Loss: 101.1747\n",
      "Epoch 2/10 | Loss: 89.9045\n",
      "Epoch 3/10 | Loss: 85.5720\n",
      "Epoch 4/10 | Loss: 82.6672\n",
      "Epoch 5/10 | Loss: 81.1423\n",
      "Epoch 6/10 | Loss: 79.7502\n",
      "Epoch 7/10 | Loss: 78.6840\n",
      "Epoch 8/10 | Loss: 75.5244\n",
      "Epoch 9/10 | Loss: 74.9211\n",
      "Epoch 10/10 | Loss: 73.4981\n"
     ]
    }
   ],
   "source": [
    "# Train the model\n",
    "device = torch.device(\"cuda\" if torch.cuda.is_available() else \"cpu\")\n",
    "\n",
    "model = MLPClassifier().to(device)\n",
    "criterion = nn.CrossEntropyLoss()\n",
    "optimizer = optim.Adam(model.parameters(), lr=0.0005)\n",
    "\n",
    "epochs = 10\n",
    "for epoch in range(epochs):\n",
    "    model.train()\n",
    "    total_loss = 0\n",
    "    for xb, yb in train_loader:\n",
    "        xb, yb = xb.to(device), yb.to(device)\n",
    "        optimizer.zero_grad()\n",
    "        out = model(xb)\n",
    "        loss = criterion(out, yb)\n",
    "        loss.backward()\n",
    "        optimizer.step()\n",
    "        total_loss += loss.item()\n",
    "\n",
    "    print(f\"Epoch {epoch+1}/{epochs} | Loss: {total_loss:.4f}\")\n"
   ]
  },
  {
   "cell_type": "code",
   "execution_count": null,
   "metadata": {},
   "outputs": [
    {
     "name": "stdout",
     "output_type": "stream",
     "text": [
      "              precision    recall  f1-score   support\n",
      "\n",
      "     Bearish       0.55      0.51      0.53       288\n",
      "     Bullish       0.63      0.41      0.49       385\n",
      "     Neutral       0.78      0.89      0.83      1236\n",
      "\n",
      "    accuracy                           0.73      1909\n",
      "   macro avg       0.66      0.60      0.62      1909\n",
      "weighted avg       0.72      0.73      0.72      1909\n",
      "\n"
     ]
    }
   ],
   "source": [
    "# Evaluate on validation set\n",
    "model.eval()\n",
    "val_preds = []\n",
    "\n",
    "with torch.no_grad():\n",
    "    for xb, _ in val_loader:\n",
    "        xb = xb.to(device)\n",
    "        logits = model(xb)\n",
    "        preds = torch.argmax(logits, dim=1).cpu().numpy()\n",
    "        val_preds.extend(preds)\n",
    "\n",
    "print(classification_report(val_df['label'], val_preds, target_names=[\"Bearish\", \"Bullish\", \"Neutral\"]))\n"
   ]
  }
 ],
 "metadata": {
  "language_info": {
   "name": "python"
  }
 },
 "nbformat": 4,
 "nbformat_minor": 2
}
